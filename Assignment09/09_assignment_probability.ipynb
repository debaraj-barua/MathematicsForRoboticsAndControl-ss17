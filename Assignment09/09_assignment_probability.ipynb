{
 "cells": [
  {
   "cell_type": "markdown",
   "metadata": {
    "deletable": true,
    "editable": true
   },
   "source": [
    "# Hochschule Bonn-Rhein-Sieg\n",
    "\n",
    "# Mathematics for Robotics and Control SS17\n",
    "\n",
    "# Assignment 9: Probability"
   ]
  },
  {
   "cell_type": "markdown",
   "metadata": {
    "deletable": true,
    "editable": true
   },
   "source": [
    "<style type=\"text/css\">\n",
    ".time_spent {\n",
    "    width: 3em;\n",
    "    border-style: none;\n",
    "    background-color: silver;\n",
    "    font-weight: bold;\n",
    "    padding-left: 5px;\n",
    "}\n",
    "</style>"
   ]
  },
  {
   "cell_type": "code",
   "execution_count": 1,
   "metadata": {
    "collapsed": false,
    "deletable": true,
    "editable": true
   },
   "outputs": [
    {
     "name": "stdout",
     "output_type": "stream",
     "text": [
      "Populating the interactive namespace from numpy and matplotlib\n"
     ]
    }
   ],
   "source": [
    "import IPython.core.display\n",
    "import sys\n",
    "import numpy as np\n",
    "if not \"win\" in sys.platform and not \"linux\" in sys.platform:\n",
    "    %pylab\n",
    "else:\n",
    "    %pylab inline"
   ]
  },
  {
   "cell_type": "markdown",
   "metadata": {
    "deletable": true,
    "editable": true
   },
   "source": []
  },
  {
   "cell_type": "markdown",
   "metadata": {
    "deletable": true,
    "editable": true
   },
   "source": [
    "Some of the questions below are adapted from the book \"Introduction to Probability\" by Dimitri P. Bertsekas and John N. Tsitsiklis"
   ]
  },
  {
   "cell_type": "markdown",
   "metadata": {
    "deletable": true,
    "editable": true
   },
   "source": [
    "**1. A box contains 100 soda bottles and 100 beer bottles. A robot needs to retreive a soda bottle from the box, but it cannot recognize the bottles while they are in the box. Therefore, it has to grasp bottles randomly from the box and place them on the table before performing object recognition. Since object recognition is an expensive operation, the robot only performs this once it is fairly confident it has already placed a soda bottle on the table. How many bottles does it need to move from the box to the table before it can be at least 99.99% sure it has placed at least one soda bottle on the table?**\n"
   ]
  },
  {
   "cell_type": "code",
   "execution_count": 2,
   "metadata": {
    "collapsed": false,
    "deletable": false,
    "editable": true,
    "nbgrader": {
     "checksum": "4ab442879ee52306b50a1bc86e9e2fbf",
     "grade": true,
     "grade_id": "10",
     "locked": false,
     "points": 1,
     "schema_version": 1,
     "solution": true
    }
   },
   "outputs": [
    {
     "name": "stdout",
     "output_type": "stream",
     "text": [
      "('Minimum number of bottles required to be moved for 99.99% :', 1)\n"
     ]
    }
   ],
   "source": [
    "def probability(no_of_bottle,total):\n",
    "    return no_of_bottle/total\n",
    "\n",
    "n_soda=100\n",
    "n_beer=100\n",
    "prob_box=0\n",
    "prob_table=0\n",
    "count=0\n",
    "\n",
    "while(prob_table<0.9999 and n_soda>0 and n_beer>0):\n",
    "    count+=1\n",
    "    total=n_soda+n_beer\n",
    "    if (prob_table==0):\n",
    "        prob_box= probability(n_beer,total)\n",
    "    else:\n",
    "        prob_box=prob_box*probability(n_beer,total)\n",
    "    \n",
    "    prob_table=1-prob_box \n",
    "    n_beer-=1    \n",
    "    \n",
    "print (\"Minimum number of bottles required to be moved for 99.99% :\",count)"
   ]
  },
  {
   "cell_type": "markdown",
   "metadata": {
    "deletable": true,
    "editable": true
   },
   "source": [
    "---"
   ]
  },
  {
   "cell_type": "markdown",
   "metadata": {
    "deletable": false,
    "editable": false,
    "nbgrader": {
     "checksum": "99770eefb2cf3e6c0df5763e325db2dd",
     "grade": false,
     "grade_id": "15",
     "locked": true,
     "schema_version": 1,
     "solution": false
    }
   },
   "source": [
    "**2\\. A six-sided die is loaded in a way that each even face is twice as likely as each odd face. All even faces are equally likely, as are all odd faces. Construct a probabilistic model for a single roll of this die and find the probability that the outcome is less than 4.**"
   ]
  },
  {
   "cell_type": "markdown",
   "metadata": {
    "deletable": false,
    "editable": true,
    "nbgrader": {
     "checksum": "83b652d0b72e7d0e3c4bc43e85f6ddf0",
     "grade": true,
     "grade_id": "20",
     "locked": false,
     "points": 1,
     "schema_version": 1,
     "solution": true
    }
   },
   "source": [
    "**Answer 2**:\n",
    "\n",
    "Let probability of odd number be $P(O)$ and probability of even number be $P(E)$.\n",
    "\n",
    "So, $P(E)=2 \\times P(O)$\n",
    "\n",
    "Now, \n",
    "Probability of getting any of the 6 numbers  of the dice is $= P(1)+P(2)+P(3)+P(4)+P(5)+P(6) = 1$, where $P(x)$ is the probability of getting the number $x$. So, \n",
    "\\begin{align*}\n",
    "P(\\text{any of the 6 number})&= P(1)+P(2)+P(3)+P(4)+P(5)+P(6)\\\\\n",
    "\\implies 1 &=P(O) + P(E) + P(O) + P(E) + P(O) + P(E)\\\\\n",
    "\\implies 1 &= P(O) + 2 \\times P(O) + P(O) + 2 \\times P(O) + P(O) + 2\\times P(O)\\\\\n",
    "\\implies 1 &=9 \\times P(O)\\\\\n",
    "\\implies P(O) &= \\frac{1}{9}\\\\\n",
    "\\text{And, }P(E) &=\\frac{2}{9}\n",
    "\\end{align*}\n",
    "\n",
    "Now, \n",
    "\\begin{align*}\n",
    "P(\\text{number less than 4})&= P(1)+P(2)+P(3)\\\\\n",
    "&=P(O) + P(E) + P(O)\\\\\n",
    "&=\\frac{1}{9} + \\frac{2}{9} + \\frac{1}{9}\\\\\n",
    "&=\\frac{4}{9}\n",
    "\\end{align*}\n",
    "\n"
   ]
  },
  {
   "cell_type": "markdown",
   "metadata": {
    "deletable": true,
    "editable": true
   },
   "source": [
    "---"
   ]
  },
  {
   "cell_type": "markdown",
   "metadata": {
    "deletable": false,
    "editable": false,
    "nbgrader": {
     "checksum": "c2904c395b9d9b1dc978def43a42be5f",
     "grade": false,
     "grade_id": "25",
     "locked": true,
     "schema_version": 1,
     "solution": false
    }
   },
   "source": [
    "For the following questions, you may have to use the Bayes' rule:\n",
    "$P(A|B) = \\frac{P(B|A)P(A)}{P(B)} = \\frac{P(B|A)P(A)}{\\sum_j P(B|A_j)P(A_j)}$\n",
    "\n",
    "where $P(A|B)$ is the conditional probability of $A$ given $B$.\n",
    "For example, in the case of a binary event: $P(A|B) = \\frac{P(B|A)P(A)}{P(B|A)P(A) + P(B|\\neg A)P(\\neg A)}$"
   ]
  },
  {
   "cell_type": "markdown",
   "metadata": {
    "deletable": false,
    "editable": false,
    "nbgrader": {
     "checksum": "9c6854e53b9e7dadb8de9ccf8499c6dd",
     "grade": false,
     "grade_id": "28",
     "locked": true,
     "schema_version": 1,
     "solution": false
    }
   },
   "source": [
    "**3\\. We roll two fair 6-sided dice. Each one of the 36 possible outcomes is assumed to be equally likely.**\n",
    "\n",
    "  a) Find the probability that doubles are rolled.\n",
    "  \n",
    "  b) Given that the roll results in a sum of 4 or less, find the conditional probability  that doubles are rolled.\n",
    "  \n",
    "  c) Find the probability that at least one die roll is a 6\n",
    "  \n",
    "  d) Given that the two dice land on different numbers, find the conditional probability that at least one die roll is a\n",
    "6\n"
   ]
  },
  {
   "cell_type": "markdown",
   "metadata": {
    "deletable": false,
    "editable": true,
    "nbgrader": {
     "checksum": "4d6555e3a693d88ad2323876a2344629",
     "grade": true,
     "grade_id": "30",
     "locked": false,
     "points": 1,
     "schema_version": 1,
     "solution": true
    }
   },
   "source": [
    "**Answer 3(a)** \n",
    "\\begin{align*}\n",
    "P(\\text{Doubles}) &= P(\\text{any of the 6 numbers in first die}) \\times P(\\text{same number as first die})\\\\\n",
    "&=1 \\times \\frac{1}{6}\\\\\n",
    "&= \\frac{1}{6}\n",
    "\\end{align*}\n",
    "\n",
    "**Answer 3(b)** \n",
    "\n",
    "Let $P(D)$ be probability of Doubles and $P(S)$ be probability of getting sum<=4.\n",
    "\n",
    "So, $$P(D|A)=\\frac{P(D\\cap A)}{P(A)}$$\n",
    "\n",
    "Now, \n",
    "\\begin{align*}\n",
    "P(D|A) &=\\frac{2}{6}\\\\\n",
    "&= \\frac{1}{3}\n",
    "\\end{align*}\n",
    "\n",
    "**Answer 3(c)** \n",
    "\n",
    "Possible outcomes for getting at least one die roll is a 6: $(1,6),(2,6),(3,6),(4,6),(5,6),(6,1),(6,2),(6,3),(6,4),(6,5), (6,6)$, i.e., 11 positive possible outcomes. \n",
    "So,\n",
    "$$P(\\text{At least one 6}) = \\frac{11}{36}$$\n",
    "\n",
    "**Answer 3(d)** \n",
    "\n",
    "Number of all possible combinations for different outcomes in each die $=30$, which is 6 doubles subtracted from 36 outcomes.\n",
    "\n",
    "Possible outcomes for getting at least one die roll is a 6, given the above: $(1,6),(2,6),(3,6),(4,6),(5,6),(6,1),(6,2),(6,3),(6,4),(6,5)$, i.e., 10 positive possible outcomes. \n",
    "\n",
    "\n",
    "So, $$P(\\text{At least one 6 | Two dice lands in different numbers}) = \\frac{1}{3}$$"
   ]
  },
  {
   "cell_type": "markdown",
   "metadata": {
    "deletable": true,
    "editable": true
   },
   "source": [
    "---"
   ]
  },
  {
   "cell_type": "markdown",
   "metadata": {
    "deletable": false,
    "editable": false,
    "nbgrader": {
     "checksum": "71670a46971b2f049a39da78f053c56e",
     "grade": false,
     "grade_id": "35",
     "locked": true,
     "schema_version": 1,
     "solution": false
    }
   },
   "source": [
    "**4\\. A domestic robot observes the behaviour of its human everyday and uses it to adapt to the human's habits. For example, the robot has learned that there is a 92% chance that the human will drink coffee in the morning. If the human does not drink coffee in the morning, there is a 70% chance that (s)he will take a nap in the afternoon, while there is a 20% chance (s)he will take a nap if they drank coffee in the morning.**\n",
    "\n",
    "    a) Which interpretation of probability is being used here and why?\n",
    "    b) Which are the events and what are their values?\n",
    "    c) One morning the robot was at its charging station and was not able to observe the human. If the robot observed the human taking a nap in the afternoon, what is the probability that the human drank coffee that morning?\n",
    "    "
   ]
  },
  {
   "cell_type": "markdown",
   "metadata": {
    "deletable": false,
    "editable": true,
    "nbgrader": {
     "checksum": "175f951d083350d22bd77d2df38780f7",
     "grade": true,
     "grade_id": "40",
     "locked": false,
     "points": 1,
     "schema_version": 1,
     "solution": true
    }
   },
   "source": [
    "**Answer 4(a)**:\n",
    "\n",
    "Subjective Interpretation of conditional probability is being used in this case. The probability values that the robot assigns to each activity is based on what it has learned, till now, so it is a subjective view of the acitivities. WIth arrival of each new information, the probabilities will either be enforced or adapted accordingly.\n",
    "\n",
    "**Answer 4(b)**:\n",
    "\n",
    "The events are :\n",
    "\n",
    "    1. Drinking Coffee (P(C))\n",
    "    2. Taking a nap (P(N))\n",
    "\n",
    "The events are either True or False. The probability values are given below:\n",
    "\\begin{align*}\n",
    "P(C) &= 0.92\\\\\n",
    "P(N|\\neg C) &=0.70\\\\\n",
    "P(N|C) &=0.20\n",
    "\\end{align*}\n",
    "\n",
    "**Answer 4(c)**:\n",
    "\\begin{align*}\n",
    "P(C|N)&=\\frac{P(N|C)\\cdot P(C)}{P(N|C)\\cdot P(C)+P(N|\\neg C)\\cdot P(\\neg C)}\\\\\n",
    "&=\\frac{0.2 \\times 0.92}{0.2 \\times 0.92+0.7 \\times 0.08}\\\\\n",
    "&=0.7667\n",
    "\\end{align*}\n",
    "So, probability that human drank coffee in the morning, given  (s)he took a nap in the afternoon is $76.67 \\%$\n"
   ]
  },
  {
   "cell_type": "markdown",
   "metadata": {
    "deletable": true,
    "editable": true
   },
   "source": [
    "---"
   ]
  }
 ],
 "metadata": {
  "anaconda-cloud": {},
  "kernelspec": {
   "display_name": "Python 2",
   "language": "python",
   "name": "python2"
  },
  "language_info": {
   "codemirror_mode": {
    "name": "ipython",
    "version": 2
   },
   "file_extension": ".py",
   "mimetype": "text/x-python",
   "name": "python",
   "nbconvert_exporter": "python",
   "pygments_lexer": "ipython2",
   "version": "2.7.13"
  },
  "name": "_merged"
 },
 "nbformat": 4,
 "nbformat_minor": 1
}
