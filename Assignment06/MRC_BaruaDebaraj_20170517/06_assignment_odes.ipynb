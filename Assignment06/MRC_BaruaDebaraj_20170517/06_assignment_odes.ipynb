{
 "cells": [
  {
   "cell_type": "markdown",
   "metadata": {
    "deletable": true,
    "editable": true
   },
   "source": [
    "<style type=\"text/css\">\n",
    ".time_spent {\n",
    "    width: 3em;\n",
    "    border-style: none;\n",
    "    background-color: silver;\n",
    "    font-weight: bold;\n",
    "    padding-left: 5px;\n",
    "}\n",
    "</style>"
   ]
  },
  {
   "cell_type": "markdown",
   "metadata": {
    "deletable": true,
    "editable": true
   },
   "source": [
    "# Hochschule Bonn-Rhein-Sieg\n",
    "\n",
    "# Mathematics for Robotics and Control, SS17\n",
    "\n",
    "# Assignment 6: Ordinary Differential Equations"
   ]
  },
  {
   "cell_type": "markdown",
   "metadata": {
    "deletable": true,
    "editable": true
   },
   "source": [
    "Familiarize yourself with SymPy:\n",
    "\n",
    "[SymPy Tutorial](http://docs.sympy.org/latest/tutorial/)\n",
    "        \n",
    "In particular, look at how to solve differential equations with SymPy:\n",
    "[Differential equations with SymPy](http://docs.sympy.org/latest/tutorial/solvers.html#solving-differential-equations)"
   ]
  },
  {
   "cell_type": "code",
   "execution_count": 1,
   "metadata": {
    "collapsed": false,
    "deletable": true,
    "editable": true
   },
   "outputs": [],
   "source": [
    "import sympy as sp\n",
    "import numpy as np\n",
    "# Enable latex printing\n",
    "sp.init_printing(use_latex=True)"
   ]
  },
  {
   "cell_type": "markdown",
   "metadata": {
    "deletable": true,
    "editable": true
   },
   "source": [
    "For your first assignment, solve the following three ODEs *by hand* and verify your results using SymPy. Please write the steps of your manual solutions using TeX syntax in the input cell below. You can find an introduction to mathematical expressions in LaTeX [here](http://en.wikibooks.org/wiki/LaTeX/Mathematics). In order for the IPython notebook to evaluate your mathematical expressions, enclose them in \\$. For instance,\n",
    "\n",
    "    $ \\sum_{i=1}^{10} t_i $ \n",
    "\n",
    "will display the following expression: $\\sum_{i=1}^{10} t_i$"
   ]
  },
  {
   "cell_type": "markdown",
   "metadata": {
    "deletable": true,
    "editable": true
   },
   "source": [
    "### 1. Solve the following ordinary differential equations by hand and verify your results using SymPy [20]"
   ]
  },
  {
   "cell_type": "markdown",
   "metadata": {
    "deletable": true,
    "editable": true
   },
   "source": [
    "**Equation 1.1**: $y^\\prime = 5 \\cdot y$"
   ]
  },
  {
   "cell_type": "markdown",
   "metadata": {
    "deletable": true,
    "editable": true
   },
   "source": [
    "*Solve Equation 1.1  by hand and write your steps here using LaTeX*\n",
    "\n",
    "\\begin{align*}\n",
    "        &\\frac{dy}{dx}= 5 \\cdot y \\\\\n",
    "        &\\implies \\frac{dy}{y}= 5 \\cdot dx \\\\\n",
    "        &\\implies \\int \\frac{dy}{y} = \\int 5 \\cdot dx \\\\\n",
    "        & \\implies \\ln y = 5 \\cdot x + C \\\\\n",
    "        & \\implies y = e^{5x+C} \\\\\n",
    "        & \\implies y = e^{5x}\\cdot e^{C} \\\\\n",
    "        & \\implies y = C_1 \\cdot e^{5x}\n",
    "\\end{align*}"
   ]
  },
  {
   "cell_type": "code",
   "execution_count": 6,
   "metadata": {
    "collapsed": false,
    "deletable": true,
    "editable": true
   },
   "outputs": [
    {
     "data": {
      "image/png": "[encoded data removed]",
      "text/latex": [
       "$$y{\\left (x \\right )} = C_{1} e^{5 x}$$"
      ],
      "text/plain": [
       "           5⋅x\n",
       "y(x) = C₁⋅ℯ   "
      ]
     },
     "execution_count": 6,
     "metadata": {},
     "output_type": "execute_result"
    }
   ],
   "source": [
    "# Insert code to verify your solution for Equation 1.1 here and evaluate it\n",
    "\n",
    "x = sp.Symbol('x')\n",
    "y=sp.Function('y')(x)\n",
    "\n",
    "y_prime=sp.Derivative(y,x)\n",
    "eq= y_prime - 5*y\n",
    "sp.init_printing(use_latex=True)\n",
    "sp.dsolve(eq)\n"
   ]
  },
  {
   "cell_type": "markdown",
   "metadata": {
    "deletable": true,
    "editable": true
   },
   "source": [
    "---\n",
    "**Equation 1.2:** $\\frac{\\mathrm d y}{\\mathrm d x} = -2 \\cdot x \\cdot y$"
   ]
  },
  {
   "cell_type": "markdown",
   "metadata": {
    "deletable": true,
    "editable": true
   },
   "source": [
    "*Solve Equation 1.2  by hand and write your steps here using LaTeX*\n",
    "\\begin{align*}\n",
    "        &\\frac{dy}{dx}=-2 \\cdot x \\cdot y \\\\\n",
    "        &\\implies \\frac{dy}{y}= -2 \\cdot x \\cdot dx \\\\\n",
    "        &\\implies \\int \\frac{dy}{y} = \\int -2 \\cdot x \\cdot dx \\\\\n",
    "        & \\implies \\ln y = -2 \\cdot \\frac{x^2}{2} + C \\\\\n",
    "        & \\implies y = e^{-{x^2}+C} \\\\\n",
    "        & \\implies y = e^{-{x^2}}\\cdot e^{C} \\\\\n",
    "        & \\implies y = C_1 \\cdot e^{-{x^2}}\n",
    "\\end{align*}\n"
   ]
  },
  {
   "cell_type": "code",
   "execution_count": 10,
   "metadata": {
    "collapsed": false,
    "deletable": true,
    "editable": true
   },
   "outputs": [
    {
     "data": {
      "image/png": "[encoded data removed]",
      "text/latex": [
       "$$y{\\left (x \\right )} = C_{1} e^{- x^{2}}$$"
      ],
      "text/plain": [
       "             2\n",
       "           -x \n",
       "y(x) = C₁⋅ℯ   "
      ]
     },
     "execution_count": 10,
     "metadata": {},
     "output_type": "execute_result"
    }
   ],
   "source": [
    "# Insert code to verify your solution for Equation 1.2 here and evaluate it\n",
    "\n",
    "x = sp.Symbol('x')\n",
    "y=sp.Function('y')\n",
    "\n",
    "y_prime=sp.Derivative(y(x),x)\n",
    "eq=y_prime+2*x*y(x)\n",
    "sp.init_printing(use_latex=True)\n",
    "sp.dsolve(eq)"
   ]
  },
  {
   "cell_type": "markdown",
   "metadata": {
    "deletable": true,
    "editable": true
   },
   "source": [
    "---\n",
    "**Equation 1.3:** $\\frac{\\mathrm d y}{\\mathrm d x} = y^2$"
   ]
  },
  {
   "cell_type": "markdown",
   "metadata": {
    "deletable": true,
    "editable": true
   },
   "source": [
    "*Solve Equation 1.3  by hand and write your steps here using LaTeX*\n",
    "\n",
    "\\begin{align*}\n",
    "        &\\frac{dy}{dx}= y^2 \\\\\n",
    "        &\\implies \\frac{dy}{y^2}= dx \\\\\n",
    "        &\\implies \\int \\frac{dy}{y^2} = \\int dx \\\\\n",
    "        & \\implies -\\frac{1}{y} = x + C_1 \\\\\n",
    "        & \\implies y = -\\frac{1}{x+C_1} \n",
    "\\end{align*}\n"
   ]
  },
  {
   "cell_type": "code",
   "execution_count": 11,
   "metadata": {
    "collapsed": false,
    "deletable": true,
    "editable": true
   },
   "outputs": [
    {
     "data": {
      "image/png": "[encoded data removed]",
      "text/latex": [
       "$$y{\\left (x \\right )} = - \\frac{1}{C_{1} + x}$$"
      ],
      "text/plain": [
       "        -1   \n",
       "y(x) = ──────\n",
       "       C₁ + x"
      ]
     },
     "execution_count": 11,
     "metadata": {},
     "output_type": "execute_result"
    }
   ],
   "source": [
    "# Insert code to verify your solution for Equation 1.3 here and evaluate it\n",
    "\n",
    "x = sp.Symbol('x')\n",
    "y=sp.Function('y')\n",
    "\n",
    "y_prime=sp.Derivative(y(x),x)\n",
    "eq=y_prime-y(x)**2\n",
    "sp.init_printing(use_latex=True)\n",
    "sp.dsolve(eq)"
   ]
  },
  {
   "cell_type": "markdown",
   "metadata": {
    "deletable": true,
    "editable": true
   },
   "source": [
    "---\n",
    "**Equation 1.4**: $y^\\prime + \\frac{4}{x} \\cdot y = x^4$"
   ]
  },
  {
   "cell_type": "markdown",
   "metadata": {
    "deletable": true,
    "editable": true
   },
   "source": [
    "*Solve Equation 1.4  by hand and write your steps here using LaTeX*\n",
    "\n",
    "We have,\n",
    "$$\n",
    "\\frac{dy}{dx} + \\frac{4}{x} \\cdot y = x^4\n",
    "$$\n",
    "\n",
    "Now, let us assume, a function $f(x)$ such that $\\frac{df}{dx} = f(x) \\cdot  \\frac{4}{x} $. So,\n",
    "\\begin{align*}\n",
    "        & \\frac {df}{dx} =  f \\cdot  \\frac{4}{x}\\\\\n",
    "        & \\implies \\frac {df}{f} =  \\frac{4}{x} \\cdot dx\\\\\n",
    "        & \\implies \\int \\frac {df}{f} =  \\int \\frac{4}{x} \\cdot dx\\\\\n",
    "        & \\implies \\ln{f} = 4 \\cdot \\ln{x} + C_1\\\\\n",
    "        & \\implies f = e^{4 \\cdot \\ln{x} + C_1}\\\\\n",
    "        & \\implies f = {(e^{\\ln{x}})}^4 \\cdot e^{C_1}\\\\\n",
    "        & \\implies f = x^4 \\cdot C_2\\\\\n",
    "\\end{align*}\n",
    "\n",
    "Therefore our equation can be re-written as: \n",
    "\n",
    "\\begin{align*}\n",
    "        & f \\cdot \\frac{dy}{dx} + f \\cdot \\frac{4}{x} \\cdot y =f \\cdot x^4\\\\\n",
    "        & \\implies f \\cdot \\frac{dy}{dx} + \\frac{df}{dx} \\cdot y =f \\cdot x^4\\\\\n",
    "        & \\implies \\frac{d}{dx}(f \\cdot y) = f \\cdot x^4 \\\\\n",
    "        & \\implies \\int {d}(f \\cdot y) =  \\int f \\cdot x^4 {dx} \\\\\n",
    "        & \\implies f \\cdot y =  \\int f \\cdot x^4 {dx} \\\\\n",
    "        & \\implies y =  \\frac{\\int f \\cdot x^4 {dx}}{f} \\\\\n",
    "\\end{align*}\n",
    "\n",
    "Using the equation $f(x)= x^4 \\cdot C_2$,\n",
    "\n",
    "\\begin{align*}\n",
    "        & y =  \\frac{\\int f \\cdot x^4 {dx}}{f} \\\\\n",
    "        & \\implies y = \\frac{\\int  x^8 \\cdot C_2 \\cdot {dx}}{ x^4 \\cdot C_2} \\\\\n",
    "        & \\implies y = \\frac{ \\frac {x^9}{9} + C_3}{ x^4} \\\\\n",
    "        & \\implies y = \\frac{C_3}{ x^4} + \\frac {x^5}{9}  \\\\\n",
    "\\end{align*}\n"
   ]
  },
  {
   "cell_type": "code",
   "execution_count": 8,
   "metadata": {
    "collapsed": false,
    "deletable": true,
    "editable": true
   },
   "outputs": [
    {
     "data": {
      "image/png": "[encoded data removed]",
      "text/latex": [
       "$$y{\\left (x \\right )} = \\frac{C_{1}}{x^{4}} + \\frac{x^{5}}{9}$$"
      ],
      "text/plain": [
       "             5\n",
       "       C₁   x \n",
       "y(x) = ── + ──\n",
       "        4   9 \n",
       "       x      "
      ]
     },
     "execution_count": 8,
     "metadata": {},
     "output_type": "execute_result"
    }
   ],
   "source": [
    "# Insert code to verify your solution for Equation 1.4 here and evaluate it\n",
    "\n",
    "\n",
    "x = sp.Symbol('x')\n",
    "y=sp.Function('y')\n",
    "\n",
    "y_prime=sp.Derivative(y(x),x)\n",
    "eq=y_prime+4/x*y(x)-x**4\n",
    "sp.init_printing(use_latex=True)\n",
    "sp.dsolve(eq)"
   ]
  },
  {
   "cell_type": "markdown",
   "metadata": {
    "deletable": true,
    "editable": true
   },
   "source": [
    "---\n",
    "\n",
    "---\n",
    "### Numerical methods for solving differential equations [50]\n",
    "In the lab class, you used Euler's method to numerically estimate the solution to an ODE; this method belongs to the family of Runge-Kutta methods. Here you will use the fourth-order Runge-Kutta method to solve an ODE numerically. The higher order Runge-Kutta methods are more accurate since they also consider the slopes at points between the current and next step (instead of just the slope at the current point).\n",
    "\n",
    "The relevant equations needed are:\n",
    "$$ y^\\prime = f(x, y) $$\n",
    "$$ x_{n+1} = x_n + h $$\n",
    "$$ y_{n+1} = y_n + \\frac{1}{6}[k_1 + 2k_2 + 2k_3 + k_4]$$\n",
    "$$k_1 = h \\cdot f(x_n,y_n)$$\n",
    "$$k_2 = h \\cdot f(x_n + \\frac{h}{2}, y + \\frac{k_1}{2})$$\n",
    "$$k_3 = h \\cdot f(x_n + \\frac{h}{2}, y + \\frac{k_2}{2})$$\n",
    "$$k_4 = h \\cdot f(x_n + h, y + k_3)$$\n",
    "\n",
    "The context of the exercise is as follows: a robot is tasked with changing a lamp in a factory. The task involves pressing a switch to turn the lamp off, waiting until it cools down to $30^{\\circ}$ C, and then unscrewing it. \n",
    "The robot is able to query the temperature of the lamp as long as it is turned on, but once the lamp is turned off, the temperature cannot be queried.\n",
    "\n",
    "Newton's law of cooling states that the rate of change of temperature of an object is directly proportional to the difference between the temperature of the object and the ambient temperature.\n",
    "This can be written in the form of a differential equation as follows:\n",
    "\n",
    "$$\\frac{dT}{dt} = -K(T - T_A)$$\n",
    "where $T$ is the temperature of the object, $T_A$ is the ambient temperature and $K$ is a constant that depends on the properties of the object.\n",
    "\n",
    "The robot queries the temperature of the lamp just before turning it off and receives $T_{t=0} = 150^{\\circ}$ C. The ambient temperature is known to be $T_A = 20^{\\circ}$ C. The robot also knows that for this lamp, $K = 0.05$.\n",
    "\n",
    "The robot needs to calculate how long it needs to wait until the lamp has cooled down sufficiently; i.e. find the $t$ when the temperature is just below $30^{\\circ}$ C.\n",
    "\n",
    "**Solve this problem using fourth-order Runge-Kutta, using step sizes 1, 0.1 and 0.01.**"
   ]
  },
  {
   "cell_type": "code",
   "execution_count": 54,
   "metadata": {
    "collapsed": false,
    "deletable": true,
    "editable": true
   },
   "outputs": [
    {
     "name": "stdout",
     "output_type": "stream",
     "text": [
      "Time approximation with step size  1.0  is:  51.0 seconds \n",
      "Time approximation with step size  0.1  is:  51.3 seconds \n",
      "Time approximation with step size  0.01  is:  51.3 seconds \n"
     ]
    }
   ],
   "source": [
    "# Implement the Runge-Kutta method here to solve \n",
    "# the given differential equation\n",
    "\n",
    "K = 0.05\n",
    "#h = 0.01 # also show the result with h = 1 and 0.1\n",
    "T_A = 20.0\n",
    "stop_temp = 30.0\n",
    "start_temp = 150.0  \n",
    "\n",
    "\"\"\"\n",
    "To find t when T=30\n",
    "\"\"\"\n",
    "\n",
    "\"\"\"\n",
    "T_prime: Function gives the value of the derivative dT/dt \n",
    "         at Temperature \"Temp\" and time \"t\"\n",
    "\"\"\"\n",
    "def T_prime(t, Temp):\n",
    "    return -K*(Temp-T_A)\n",
    "\n",
    "\n",
    "\"\"\"\n",
    "R_K : Function returns the time estimate using fourth-order Runge-Kutta \n",
    "ic  : Initial values ic[0]: time at t_0, and ic[1]: Temperature at t_0\n",
    "h   : Step size\n",
    "\"\"\"\n",
    "def R_K(ic, h):\n",
    "    \n",
    "    t_current = ic[0]\n",
    "    Temp = ic[1]\n",
    "   \n",
    "    #Loop until current temperature is <=30 degree Celsius\n",
    "    while(Temp>stop_temp):\n",
    "        \n",
    "        k1 = h*T_prime(t_current,Temp)\n",
    "        k2 = h*T_prime(t_current+h/2,Temp+1/2*k1)\n",
    "        k3 = h*T_prime(t_current+h/2,Temp+1/2*k2)\n",
    "        k4 = h*T_prime(t_current+h,Temp+1*k3)\n",
    "        \n",
    "        k =(k1+(2*k2)+(2*k3)+k4)\n",
    "        \n",
    "        Temp = (Temp + (k/6))   # update temperature using RK-4\n",
    "        t_current += h          # increment time by step size\n",
    "    \n",
    "    #Return time at which temperature dropped to 30 degree Celsius\n",
    "    return t_current\n",
    "\n",
    "\n",
    "\n",
    "#STEP SIZE: 1\n",
    "ic = np.array([0., start_temp])\n",
    "h = 1.0\n",
    "t_stp1 = R_K(ic, h)\n",
    "\n",
    "print \"Time approximation with step size \", h, \" is: \", t_stp1, \"seconds \"\n",
    "\n",
    "#STEP SIZE: 0.1\n",
    "ic = np.array([0., start_temp])\n",
    "h = 0.1\n",
    "t_stp2 = R_K(ic, h)\n",
    "\n",
    "print \"Time approximation with step size \", h, \" is: \", t_stp2, \"seconds \"\n",
    "\n",
    "#STEP SIZE: 0.01\n",
    "ic = np.array([0., start_temp])\n",
    "h = 0.01\n",
    "t_stp3 = R_K(ic, h)\n",
    "\n",
    "print \"Time approximation with step size \", h, \" is: \", t_stp3, \"seconds \"\n"
   ]
  },
  {
   "cell_type": "markdown",
   "metadata": {
    "deletable": true,
    "editable": true
   },
   "source": [
    "### Verification using SymPy and application of initial conditions [10]\n",
    "Use SymPy to find the general solution to the above problem and find $C_1$ using the initial conditions given. Using this particular solution, **show that the solution obtained using Runge-Kutta is correct.**"
   ]
  },
  {
   "cell_type": "code",
   "execution_count": 16,
   "metadata": {
    "collapsed": false,
    "deletable": true,
    "editable": true
   },
   "outputs": [
    {
     "data": {
      "image/png": "[encoded data removed]",
      "text/latex": [
       "$$T{\\left (t \\right )} = C_{1} e^{- 0.05 t} + 20.0$$"
      ],
      "text/plain": [
       "           -0.05⋅t       \n",
       "T(t) = C₁⋅ℯ        + 20.0"
      ]
     },
     "execution_count": 16,
     "metadata": {},
     "output_type": "execute_result"
    }
   ],
   "source": [
    "# Code in SymPy here\n",
    "t = sp.Symbol('t')\n",
    "T=sp.Function('T')\n",
    "\n",
    "T_prime=sp.Derivative(T(t),t)\n",
    "eq=T_prime+0.05*(T(t)-20)\n",
    "sp.init_printing(use_latex=True)\n",
    "sp.dsolve(eq)\n"
   ]
  },
  {
   "cell_type": "markdown",
   "metadata": {
    "deletable": true,
    "editable": true
   },
   "source": [
    "*Apply initial conditions and required temperature to solve for $t$ here:*\n",
    "\n",
    "Now, we have, $T(0) = 150^{\\circ}C$ <br>\n",
    "\n",
    "So,\n",
    "\\begin{align*}\n",
    "    &T{(t)} = C_{1} e^{- 0.05 t} + 20.0\\\\\n",
    "    &\\implies T(0) =  C_{1} e^{- 0.05 * 0} + 20.0 \\\\\n",
    "    &\\implies 150.0 = C_1 + 20.0 \\\\\n",
    "    &\\implies C_1 = 130.0 \n",
    "\\end{align*}\n",
    "\n",
    "Let  $t_i$ be the time when Temperature drops to $30^{\\circ}C$,\n",
    "\n",
    "So, \n",
    "\\begin{align*}\n",
    "    & 30.0 = 130.0 \\cdot e^{- 0.05 t_i} + 20.0\\\\\n",
    "    & \\implies  e^{- 0.05 t_i} = \\frac{10}{130} \\\\\n",
    "    & \\implies -0.05 t = \\ln(\\frac{1}{13}) \\\\\n",
    "    & \\implies t_i = 51.23 \n",
    "\\end{align*}\n",
    "\n"
   ]
  }
 ],
 "metadata": {
  "kernelspec": {
   "display_name": "Python 2",
   "language": "python",
   "name": "python2"
  },
  "language_info": {
   "codemirror_mode": {
    "name": "ipython",
    "version": 2
   },
   "file_extension": ".py",
   "mimetype": "text/x-python",
   "name": "python",
   "nbconvert_exporter": "python",
   "pygments_lexer": "ipython2",
   "version": "2.7.13"
  }
 },
 "nbformat": 4,
 "nbformat_minor": 0
}
